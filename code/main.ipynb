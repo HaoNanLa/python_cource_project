{
 "cells": [
  {
   "cell_type": "code",
   "execution_count": 32,
   "metadata": {},
   "outputs": [],
   "source": [
    "import json \n",
    "import pandas as pd \n",
    "from pandasql import sqldf\n",
    "import string\n",
    "from wordcloud import WordCloud, STOPWORDS \n",
    "import matplotlib.pyplot as plt\n",
    "import datetime as dt"
   ]
  },
  {
   "cell_type": "markdown",
   "metadata": {},
   "source": [
    "# 1. data cleaning"
   ]
  },
  {
   "cell_type": "code",
   "execution_count": 33,
   "metadata": {},
   "outputs": [
    {
     "name": "stdout",
     "output_type": "stream",
     "text": [
      "    COUNT(*)          category_name\n",
      "0       2345       Film & Animation\n",
      "1        384       Autos & Vehicles\n",
      "2       6472                  Music\n",
      "3        920         Pets & Animals\n",
      "4       2174                 Sports\n",
      "5        402        Travel & Events\n",
      "6        817                 Gaming\n",
      "7       3210         People & Blogs\n",
      "8       3457                 Comedy\n",
      "9       9964          Entertainment\n",
      "10      2487        News & Politics\n",
      "11      4146          Howto & Style\n",
      "12      1656              Education\n",
      "13      2401   Science & Technology\n",
      "14        57  Nonprofits & Activism\n",
      "15        57                  Shows\n"
     ]
    }
   ],
   "source": [
    "with open('data/US_category_id.json') as f:\n",
    "    cat_data = json.load(f)\n",
    "    ID = [int(x.get('id')) for x in cat_data.get('items')]\n",
    "    category = [x.get('snippet').get('title')for x in cat_data.get('items')]\n",
    "    category_id_dict = dict(zip(ID, category))\n",
    "    #print(category_id_dict)\n",
    "    \n",
    "vid_data_df = pd.read_csv('data/USvideos.csv', parse_dates = ['publish_time'])\n",
    "vid_data_df = vid_data_df.drop(['video_id', 'tags','thumbnail_link', 'description' ],axis=1)\n",
    "vid_data_df['category_name'] = vid_data_df['category_id'].map(category_id_dict)\n",
    "vid_data_df['trending_date'] = vid_data_df['trending_date'].apply(lambda x: dt.datetime.strptime(x,'%y.%d.%m'))\n",
    "#print(vid_data_df.isnull().sum())\n",
    "#print(vid_data_df)\n",
    "\n",
    "print(sqldf(\"SELECT COUNT(*), category_name FROM vid_data_df group by category_id;\", locals()))\n"
   ]
  },
  {
   "cell_type": "markdown",
   "metadata": {},
   "source": [
    "# 2. word clouds\n",
    "## example: https://www.geeksforgeeks.org/generating-word-cloud-python/"
   ]
  },
  {
   "cell_type": "markdown",
   "metadata": {},
   "source": [
    "## count each words (copy from hw7)"
   ]
  },
  {
   "cell_type": "code",
   "execution_count": 34,
   "metadata": {},
   "outputs": [],
   "source": [
    "# input is one column, return a list of the number of each word\n",
    "def count(data):\n",
    "    wordDict={} # used to store the numbers of words. \n",
    "    for words in data:\n",
    "        words=str(words).split()\n",
    "        for word in words:\n",
    "            # strip punctuations\n",
    "            word=word.strip(string.punctuation)\n",
    "            # covert it to lowercase\n",
    "            word=word.lower()\n",
    "            # count the number of each word\n",
    "            wordDict[word] = wordDict.get(word,0)+1\n",
    "    # transfer data from the dictionary to a list so that we can sort\n",
    "    wordList=[]\n",
    "    for k,v in wordDict.items():\n",
    "        wordList.append((v,k))\n",
    "    wordList.sort(reverse=True)\n",
    "    return wordList"
   ]
  },
  {
   "cell_type": "code",
   "execution_count": 36,
   "metadata": {},
   "outputs": [
    {
     "data": {
      "text/plain": [
       "[(25383, ''),\n",
       " (9989, 'the'),\n",
       " (4814, 'a'),\n",
       " (4286, 'to'),\n",
       " (3941, 'official'),\n",
       " (3363, 'in'),\n",
       " (3166, 'of'),\n",
       " (2864, 'video'),\n",
       " (2834, 'with'),\n",
       " (2364, 'on'),\n",
       " (2343, 'and'),\n",
       " (2238, '2018'),\n",
       " (2048, 'i'),\n",
       " (2039, 'my'),\n",
       " (2000, 'trailer'),\n",
       " (1839, 'how'),\n",
       " (1790, 'for'),\n",
       " (1721, 'is'),\n",
       " (1712, 'you'),\n",
       " (1301, 'ft')]"
      ]
     },
     "execution_count": 36,
     "metadata": {},
     "output_type": "execute_result"
    }
   ],
   "source": [
    "count(vid_data_df['title'])[0:20]"
   ]
  },
  {
   "cell_type": "markdown",
   "metadata": {},
   "source": [
    "# 3. analysis of published and trending dates"
   ]
  },
  {
   "cell_type": "code",
   "execution_count": 28,
   "metadata": {},
   "outputs": [
    {
     "ename": "SyntaxError",
     "evalue": "invalid syntax (<ipython-input-28-455680ca2399>, line 1)",
     "output_type": "error",
     "traceback": [
      "\u001b[1;36m  File \u001b[1;32m\"<ipython-input-28-455680ca2399>\"\u001b[1;36m, line \u001b[1;32m1\u001b[0m\n\u001b[1;33m    def\u001b[0m\n\u001b[1;37m        ^\u001b[0m\n\u001b[1;31mSyntaxError\u001b[0m\u001b[1;31m:\u001b[0m invalid syntax\n"
     ]
    }
   ],
   "source": [
    "\n",
    "def "
   ]
  },
  {
   "cell_type": "code",
   "execution_count": null,
   "metadata": {},
   "outputs": [],
   "source": []
  },
  {
   "cell_type": "code",
   "execution_count": null,
   "metadata": {},
   "outputs": [],
   "source": []
  },
  {
   "cell_type": "code",
   "execution_count": null,
   "metadata": {},
   "outputs": [],
   "source": []
  },
  {
   "cell_type": "code",
   "execution_count": null,
   "metadata": {},
   "outputs": [],
   "source": []
  },
  {
   "cell_type": "code",
   "execution_count": null,
   "metadata": {},
   "outputs": [],
   "source": []
  },
  {
   "cell_type": "code",
   "execution_count": null,
   "metadata": {},
   "outputs": [],
   "source": []
  },
  {
   "cell_type": "code",
   "execution_count": null,
   "metadata": {},
   "outputs": [],
   "source": []
  },
  {
   "cell_type": "code",
   "execution_count": null,
   "metadata": {},
   "outputs": [],
   "source": []
  },
  {
   "cell_type": "code",
   "execution_count": null,
   "metadata": {},
   "outputs": [],
   "source": []
  }
 ],
 "metadata": {
  "kernelspec": {
   "display_name": "Python 3",
   "language": "python",
   "name": "python3"
  },
  "language_info": {
   "codemirror_mode": {
    "name": "ipython",
    "version": 3
   },
   "file_extension": ".py",
   "mimetype": "text/x-python",
   "name": "python",
   "nbconvert_exporter": "python",
   "pygments_lexer": "ipython3",
   "version": "3.7.4"
  }
 },
 "nbformat": 4,
 "nbformat_minor": 2
}
